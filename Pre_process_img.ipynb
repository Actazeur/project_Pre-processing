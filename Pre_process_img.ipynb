{
 "cells": [
  {
   "cell_type": "code",
   "execution_count": 1,
   "metadata": {},
   "outputs": [],
   "source": [
    "import numpy as np\n",
    "import pandas as pd\n",
    "import matplotlib as mpl\n",
    "import matplotlib.pyplot as plt\n",
    "import os, fnmatch, shutil\n",
    "\n",
    "from matplotlib import cm\n",
    "from colorspacious import cspace_converter\n",
    "from collections import OrderedDict\n",
    "from PIL import Image, ImageEnhance\n",
    "from datetime import datetime\n"
   ]
  },
  {
   "cell_type": "code",
   "execution_count": 15,
   "metadata": {},
   "outputs": [],
   "source": [
    "def read_to_dataframes(path, frames, x=640, y=480):\n",
    "    \"\"\"\n",
    "    Read to dataframe with specified columns and rows and path\n",
    "    Parameters:\n",
    "        path(string)               :   filepath and filename of txt file containing IR data\n",
    "        x(int)                     :   amount of pixels along x-axis.\n",
    "        y(int)                     :   amount of pixels along y-axis.\n",
    "    Returns:\n",
    "        Data_df(Pandas.DataFrame)  :       Contains float values of temperature measurement for IR cameras\n",
    "    \"\"\"\n",
    "# data is 640x480 in size\n",
    "    \n",
    "    album = list()\n",
    "    \n",
    "    f = open(path, 'r')\n",
    "    #contain timestamp\n",
    "    for k in range(0,frames,1):\n",
    "        f.readline()\n",
    "        #Initialise dictionary \n",
    "        temp_dct ={str(i): [] for i in range(0,x, 1)}\n",
    "        #Seperate values and stores in a dictionary\n",
    "        for j in range(0,y,1):\n",
    "            string = f.readline()\n",
    "            str_list = string.split('\\t')\n",
    "            str_list=str_list[0:-1]\n",
    "\n",
    "            {temp_dct[str(i)].append(float(str_list[i])) for i in range(0,len(str_list), 1)}\n",
    "\n",
    "        data_df = pd.DataFrame.from_dict(temp_dct)\n",
    "        album.append(data_df)\n",
    "    return album\n",
    "\n",
    "def format_data(data_df, x0=238,x1=396,y0=13,y1=467):\n",
    "    \"\"\"\n",
    "    Only fetch data from specified pixels\n",
    "    Parameters:\n",
    "        data_df(DataFrame)  : data_frame containing complete data\n",
    "        x0(int)             : x start position\n",
    "        x1(int)             : x end position\n",
    "        y0(int)             : y start position\n",
    "        y1(int)             : y end position\n",
    "    Return:\n",
    "        raw_arr(array[,])  : formated data\n",
    "    \"\"\"\n",
    "    x0, x1 = str(x0), str(x1)\n",
    "    data_df = data_df.loc[y0:y1, x0:x1]\n",
    "    raw_arr = data_df.to_numpy()\n",
    "    return raw_arr\n",
    "\n",
    "def normalize_arr(raw_arr):\n",
    "    \"\"\"\n",
    "    Normalize a numpy array based on max and min temp 1800 and 800 respectivly\n",
    "    Parameters:\n",
    "        raw_arr(numpy.array)       : A 2D numpy array containing one frame from camera\n",
    "    Returns:\n",
    "        raw_arr(numpy.array)       : Normalized array\n",
    "    \"\"\"\n",
    "    low_val_flags = raw_arr < 800\n",
    "    raw_arr = (raw_arr - 800)/(1800-800)\n",
    "    raw_arr[low_val_flags] = 0\n",
    "    raw_arr\n",
    "    return raw_arr\n",
    "\n",
    "def sharpen_img(raw_arr, factor = 5):\n",
    "    \"\"\"\n",
    "    Sharpens the image using pillow library\n",
    "    Parameters:\n",
    "        raw_arr(numpy.array)        : Normalized array of a frame\n",
    "        factor(int)                 : Sharpening factor\n",
    "    Returns:\n",
    "        im(Pillow.Image)            : A sharpened image based on raw_arr\n",
    "    \"\"\"\n",
    "    im = Image.fromarray(raw_arr*255)\n",
    "    im = im.convert('RGB')\n",
    "    enhancer = ImageEnhance.Sharpness(im)\n",
    "\n",
    "    im = enhancer.enhance(factor)\n",
    "    return im\n",
    "\n",
    "def crop_im(im):\n",
    "    \"\"\"\n",
    "    Crops the image to focus on taphole\n",
    "    Parameters:\n",
    "        im(Pillow.Image)             : sharpened image\n",
    "    Returns:\n",
    "        temp_im(Pillow.Image)        : Image of taphole\n",
    "    \"\"\"\n",
    "    temp_im = im\n",
    "        \n",
    "    flamming_area = (0,0,150,180)\n",
    "    temp_im = temp_im.crop(flamming_area)\n",
    "    return temp_im\n",
    "\n",
    "def find_all(path, pattern='*.txt'):\n",
    "    \"\"\"\n",
    "    Will search for any file with .txt extension in path\n",
    "    Parameters:\n",
    "        path(string)              : Path to folder with data\n",
    "        pattern(string)           : Pattern to look for\n",
    "    Returns:\n",
    "        result(List(string))      : list containing all paths with .txt extension\n",
    "    \"\"\"\n",
    "    result = []\n",
    "\n",
    "    for root, dirs, files in os.walk(path):\n",
    "        for name in files:\n",
    "            if fnmatch.fnmatch(name, pattern):\n",
    "                result.append((root, name))\n",
    "    return result\n",
    "\n",
    "# method\n",
    "def pre_process(path, n_frames = 350, crop = True, save = True):\n",
    "    \"\"\"\n",
    "    Will pre-process and image process raw data in .txt format\n",
    "    Parameters:\n",
    "        path(string)               : Path to folder containing raw data\n",
    "        n_frames(int)              : Number of frames to extract\n",
    "        crop(bool)                 : True if image will be cropped\n",
    "        save(bool)                 : True if image will be saved\n",
    "    \"\"\"\n",
    "    img_lst = []\n",
    "    #Will read a .txt file from path into a list of dataframes, then move the file to a new location\n",
    "    df = read_camera_data(path, n_frames)\n",
    "    i = 0\n",
    "    #for each element in df [list of dataframes]\n",
    "    for frame in df:\n",
    "        #Format data and output to a numpy matrix\n",
    "        raw_arr = format_data(frame)\n",
    "        #Normalize the data\n",
    "        raw_arr = normalize_arr(raw_arr)\n",
    "        #load matrix to an image, then sharpen it\n",
    "        im = sharpen_img(raw_arr)\n",
    "        # optional, will crop images for flaming detection\n",
    "        if crop:\n",
    "            im = crop_im(im)\n",
    "        # will append all images to a list, then return it. optional it can save images.\n",
    "        img_lst.append(im)\n",
    "\n",
    "        im.save(f'project work/test/processed/test_new{i}.png')\n",
    "        i+=1\n",
    "        \n",
    "def read_camera_data(path, n_frames):\n",
    "    \"\"\"\n",
    "    Read camera data\n",
    "    Parameters:\n",
    "        path(string)           : Path to raw data folder\n",
    "        n_frames(int)          : number of frames to extract\n",
    "    Returns:\n",
    "        df(Pandas.DataFrame)   : Dataframe containing raw data.\n",
    "    \"\"\"\n",
    "    path_read = f'{path}/raw'\n",
    "    path_oldraw = f'{path}/old_raw/'\n",
    "    \n",
    "    path_read = find_all(path_read)[0]\n",
    "    file_name = path_read[1]\n",
    "    path_read = os.path.join(path_read[0],path_read[1])\n",
    "\n",
    "    df = read_to_dataframes(path_read, n_frames)\n",
    "    #shutil.move(path_read, f'{path_oldraw}/{file_name}')\n",
    "    \n",
    "    return df"
   ]
  },
  {
   "cell_type": "code",
   "execution_count": 77,
   "metadata": {},
   "outputs": [],
   "source": []
  },
  {
   "cell_type": "code",
   "execution_count": 16,
   "metadata": {},
   "outputs": [],
   "source": [
    "path = 'project work/test'\n",
    "im_lst = pre_process(path, 100, crop=True)\n"
   ]
  },
  {
   "cell_type": "code",
   "execution_count": 4,
   "metadata": {},
   "outputs": [],
   "source": []
  },
  {
   "cell_type": "code",
   "execution_count": 35,
   "metadata": {},
   "outputs": [
    {
     "name": "stdout",
     "output_type": "stream",
     "text": [
      "2021_09_21_12_57_17_089.txt\n",
      "test.txt\n"
     ]
    },
    {
     "data": {
      "text/plain": [
       "['project work/test/raw\\\\name2021_09_21_12_57_17_089.txt',\n",
       " 'project work/test/raw\\\\nametest.txt']"
      ]
     },
     "execution_count": 35,
     "metadata": {},
     "output_type": "execute_result"
    }
   ],
   "source": [
    "path = \"project work/test/raw\"\n",
    "temp = find_all(path)\n",
    "temp"
   ]
  },
  {
   "cell_type": "code",
   "execution_count": 19,
   "metadata": {},
   "outputs": [
    {
     "data": {
      "text/plain": [
       "'project work\\\\test\\\\old_raw\\\\test.txt'"
      ]
     },
     "execution_count": 19,
     "metadata": {},
     "output_type": "execute_result"
    }
   ],
   "source": [
    "shutil.move(r\"project work\\test\\raw\\test.txt\",r\"project work\\test\\old_raw\\test.txt\")"
   ]
  }
 ],
 "metadata": {
  "kernelspec": {
   "display_name": "Python 3",
   "language": "python",
   "name": "python3"
  },
  "language_info": {
   "codemirror_mode": {
    "name": "ipython",
    "version": 3
   },
   "file_extension": ".py",
   "mimetype": "text/x-python",
   "name": "python",
   "nbconvert_exporter": "python",
   "pygments_lexer": "ipython3",
   "version": "3.8.0"
  }
 },
 "nbformat": 4,
 "nbformat_minor": 4
}
